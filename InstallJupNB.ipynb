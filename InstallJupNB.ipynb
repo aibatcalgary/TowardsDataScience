{
 "cells": [
  {
   "cell_type": "markdown",
   "id": "29d1018f",
   "metadata": {},
   "source": [
    "# How to get started with Jupyter Notebook?"
   ]
  },
  {
   "cell_type": "markdown",
   "id": "159dae82",
   "metadata": {},
   "source": [
    "AJ Jaxylykov\n",
    "\n",
    "aibatcalgary@gmail.com"
   ]
  },
  {
   "cell_type": "markdown",
   "id": "b876e5e9",
   "metadata": {},
   "source": [
    "## 1. Install Python on your computer (Windows)"
   ]
  },
  {
   "cell_type": "markdown",
   "id": "57573105",
   "metadata": {},
   "source": [
    "1. Go to [https://www.python.org/downloads/](https://www.python.org/downloads/) and install the latest version of Python on your PC.\n",
    "\n",
    "2. Create a new folder where you would like to have Python to be installed. For example: This PC > Local disk (C:) > Python.\n",
    "\n",
    "3. Customize the Python installation:\n",
    "    - check \"Add Python to PATH\" checkbox\n",
    "    - choose installation location in the newly created folder\n",
    "    \n",
    "Click \"Install\"\n",
    "\n",
    "4. Open command prompt and type \"python\" in it.\n",
    "You should see the version of Python installed on your computer.\n",
    "\n",
    "<b>Note:</b> You can also run Python through the Python Shell. It may look like \"Python 3.9 (64 bit version)\" app in your Startup menu.\n",
    "\n",
    "5. In your Python shell type something like:"
   ]
  },
  {
   "cell_type": "code",
   "execution_count": 4,
   "id": "c2ee21d2",
   "metadata": {},
   "outputs": [
    {
     "name": "stdout",
     "output_type": "stream",
     "text": [
      "Hello, world!\n"
     ]
    }
   ],
   "source": [
    "print(\"Hello, world!\")"
   ]
  },
  {
   "cell_type": "markdown",
   "id": "b2f07b7c",
   "metadata": {},
   "source": [
    "Congratulations! You have successfully installed Python on you computer.\n",
    "Now lets proceed with Jupyter notebooks installation."
   ]
  },
  {
   "cell_type": "markdown",
   "id": "b1fe5418",
   "metadata": {},
   "source": [
    "## 2. Install Jupyter Notebook"
   ]
  }
 ],
 "metadata": {
  "kernelspec": {
   "display_name": "Python 3",
   "language": "python",
   "name": "python3"
  },
  "language_info": {
   "codemirror_mode": {
    "name": "ipython",
    "version": 3
   },
   "file_extension": ".py",
   "mimetype": "text/x-python",
   "name": "python",
   "nbconvert_exporter": "python",
   "pygments_lexer": "ipython3",
   "version": "3.9.4"
  }
 },
 "nbformat": 4,
 "nbformat_minor": 5
}
